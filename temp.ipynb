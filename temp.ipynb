{
 "cells": [
  {
   "cell_type": "code",
   "execution_count": 1,
   "metadata": {},
   "outputs": [],
   "source": [
    "import numpy as np\n",
    "import matplotlib.pyplot as plt\n",
    "import random as random\n",
    "import math\n",
    "import itertools\n",
    "import operator\n",
    "import helpFunctions as help\n",
    "import helpFunctionsRL as helpRL"
   ]
  },
  {
   "cell_type": "code",
   "execution_count": 2,
   "metadata": {},
   "outputs": [],
   "source": [
    "N = 3\n",
    "B = 10\n",
    "alpha = 0.85\n",
    "beta = 1\n",
    "p_exp_zero = 0.999\n",
    "episodes = 10**4\n",
    "Sum_Rmin_list = [4,8,12,16,20]"
   ]
  },
  {
   "cell_type": "code",
   "execution_count": 3,
   "metadata": {},
   "outputs": [],
   "source": [
    "from operator import index\n",
    "\n",
    "\n",
    "sr_rl_min = []\n",
    "\n",
    "for m in Sum_Rmin_list:\n",
    "\n",
    "    sr = []\n",
    "    p_exp = [0 for i in range(0,episodes)]\n",
    "    p_exp[0] = p_exp_zero\n",
    "    \n",
    "    allPossibleStates = helpRL.everyState(N,m)\n",
    "    allPossibleActions = helpRL.everyAction(B,N)\n",
    "    qTable = np.zeros([len(allPossibleStates),len(allPossibleActions)])\n",
    "\n",
    "\n",
    "    for i in range(0,episodes):\n",
    "        actions = list(helpRL.allStates(B,N))\n",
    "        queue = help.generate_queue(m,N)\n",
    "        currentState = queue[:,0]\n",
    "\n",
    "        check = helpRL.checkIfAllNegative(currentState)\n",
    "        time = 0\n",
    "        p_exp[i] = max(p_exp[i-1]**i,0.01)\n",
    "        M = N\n",
    "\n",
    "        while check:\n",
    "            #currentActionIndex = random.randint(0,len(actions)-1)\n",
    "            currentActionIndex = helpRL.actionByAgent(qTable,p_exp[i],currentState,allPossibleStates,allPossibleActions,actions)\n",
    "\n",
    "            rewardAction = np.array(actions[currentActionIndex])\n",
    "            nextState = np.array(currentState) - rewardAction\n",
    "            nextState = tuple([int(elem) for elem in nextState])\n",
    "            #print(\"Current State: \",currentState,\"Action take: \",rewardAction,\"Next State: \",nextState)\n",
    "\n",
    "            check2 = helpRL.checkIfOneNegative(nextState)\n",
    "            if check2[0]:\n",
    "                [nextState,queue] = helpRL.deleteElement(queue,nextState,check2[1],time)\n",
    "                M = M-len(check2[1]) \n",
    "                if M==0:\n",
    "                    break\n",
    "                actions = list(helpRL.allStates(B,M))\n",
    "            \n",
    "            check = helpRL.checkIfAllNegative(nextState)\n",
    "            if check:\n",
    "                update = helpRL.reward(currentState, rewardAction)\n",
    "                xCoord = allPossibleStates.index(tuple(nextState))\n",
    "                qTable[xCoord, currentActionIndex] +=  beta*update\n",
    "\n",
    "            currentState = nextState\n",
    "\n",
    "            time = time+1\n",
    "        \n",
    "        sr.append(sum(queue[:,3])/N)\n",
    "    sr_rl = sum(sr)/episodes\n",
    "    sr_rl_min.append(sr_rl)\n"
   ]
  },
  {
   "cell_type": "code",
   "execution_count": null,
   "metadata": {},
   "outputs": [],
   "source": []
  }
 ],
 "metadata": {
  "kernelspec": {
   "display_name": "Python 3.9.6 64-bit",
   "language": "python",
   "name": "python3"
  },
  "language_info": {
   "codemirror_mode": {
    "name": "ipython",
    "version": 3
   },
   "file_extension": ".py",
   "mimetype": "text/x-python",
   "name": "python",
   "nbconvert_exporter": "python",
   "pygments_lexer": "ipython3",
   "version": "3.9.6"
  },
  "orig_nbformat": 4,
  "vscode": {
   "interpreter": {
    "hash": "c646a9674814277039c39dcdb51e2bec8767efc7dff4a66721d49784526bb3e5"
   }
  }
 },
 "nbformat": 4,
 "nbformat_minor": 2
}
