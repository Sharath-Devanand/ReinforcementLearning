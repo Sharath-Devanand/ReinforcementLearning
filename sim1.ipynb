{
 "cells": [
  {
   "cell_type": "code",
   "execution_count": 3,
   "metadata": {},
   "outputs": [],
   "source": [
    "import numpy as np\n",
    "import random as rand"
   ]
  },
  {
   "cell_type": "code",
   "execution_count": 8,
   "metadata": {},
   "outputs": [],
   "source": [
    "T_MAX = np.power(10,4)\n",
    "numberOfQueues = 4\n",
    "p=0.5               ## Bernoulli probability\n",
    "p2 = 0.5            ## Probability of choosing which server\n",
    "c = 1               ## Constant service factor"
   ]
  },
  {
   "cell_type": "code",
   "execution_count": 9,
   "metadata": {},
   "outputs": [],
   "source": [
    "dtq = np.zeros((numberOfQueues,T_MAX),dtype=np.int32)"
   ]
  },
  {
   "cell_type": "code",
   "execution_count": 10,
   "metadata": {},
   "outputs": [],
   "source": [
    "for i in range(1,T_MAX-1):\n",
    "    \n",
    "    ## Arrival of packets to the queue\n",
    "    for j in range(0,numberOfQueues):\n",
    "        dtq[j,i] = dtq[j,i-1]+np.int32(rand.random()>p)\n",
    "        dtq[j,i] = dtq[j,i-1]+np.int32(rand.random()>p)\n",
    "\n",
    "    \n",
    "    ## Service of queues\n",
    "    nonzeroQueueIndex = np.transpose(np.nonzero(dtq[:,i]))[:,0]\n",
    "    whichQueueIndex = rand.randint(0,np.shape(nonzeroQueueIndex)[0]-1)\n",
    "    whichQueue = nonzeroQueueIndex[whichQueueIndex]\n",
    "    #print(whichQueue)\n",
    "    dtq[whichQueue,i+1] = dtq[whichQueue,i]-c"
   ]
  },
  {
   "cell_type": "code",
   "execution_count": 11,
   "metadata": {},
   "outputs": [
    {
     "data": {
      "text/plain": [
       "array([[   0,    1,    2, ..., 4926, 4927, 4926],\n",
       "       [   0,    0,    1, ..., 5060, 5060,    0],\n",
       "       [   0,    1,    2, ..., 4995, 4995,    0],\n",
       "       [   0,    0,    1, ..., 4921, 4921,    0]])"
      ]
     },
     "execution_count": 11,
     "metadata": {},
     "output_type": "execute_result"
    }
   ],
   "source": [
    "dtq"
   ]
  },
  {
   "cell_type": "code",
   "execution_count": null,
   "metadata": {},
   "outputs": [],
   "source": []
  }
 ],
 "metadata": {
  "interpreter": {
   "hash": "c646a9674814277039c39dcdb51e2bec8767efc7dff4a66721d49784526bb3e5"
  },
  "kernelspec": {
   "display_name": "Python 3.9.6 64-bit",
   "language": "python",
   "name": "python3"
  },
  "language_info": {
   "codemirror_mode": {
    "name": "ipython",
    "version": 3
   },
   "file_extension": ".py",
   "mimetype": "text/x-python",
   "name": "python",
   "nbconvert_exporter": "python",
   "pygments_lexer": "ipython3",
   "version": "3.9.6"
  },
  "orig_nbformat": 4
 },
 "nbformat": 4,
 "nbformat_minor": 2
}
