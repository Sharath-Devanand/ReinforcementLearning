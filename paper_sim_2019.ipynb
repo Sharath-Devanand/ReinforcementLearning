{
 "cells": [
  {
   "cell_type": "markdown",
   "metadata": {},
   "source": [
    "### Importing Libraries"
   ]
  },
  {
   "cell_type": "code",
   "execution_count": 1,
   "metadata": {},
   "outputs": [],
   "source": [
    "import numpy as np\n",
    "import matplotlib.pyplot as plt\n",
    "import helpFunctions as help\n",
    "import helpFunctionsRL as helpRL\n",
    "from operator import index"
   ]
  },
  {
   "cell_type": "markdown",
   "metadata": {},
   "source": [
    "## Initializing Variables"
   ]
  },
  {
   "cell_type": "code",
   "execution_count": 2,
   "metadata": {},
   "outputs": [],
   "source": [
    "N = 3\n",
    "B = 10\n",
    "alpha = 0.85\n",
    "beta = 1\n",
    "p_exp_zero = 0.999\n",
    "episodes = 10**4\n",
    "Sum_Rmin_list = [4,8,12,16,20]"
   ]
  },
  {
   "cell_type": "markdown",
   "metadata": {},
   "source": [
    "## Equal Paritioning"
   ]
  },
  {
   "cell_type": "code",
   "execution_count": 3,
   "metadata": {},
   "outputs": [],
   "source": [
    "sr_srmin_ep = []\n",
    "for Sum_Rmin in Sum_Rmin_list:\n",
    "    sr = []\n",
    "    for epi in range(0,episodes):\n",
    "        queue = help.generate_queue(Sum_Rmin,N)\n",
    "        queue = help.equal_rate_scheduler(queue,N,B)\n",
    "        sr.append(sum(queue[:,3])/N)\n",
    "    sr_ep = sum(sr)/episodes\n",
    "    sr_srmin_ep.append(sr_ep)"
   ]
  },
  {
   "cell_type": "markdown",
   "metadata": {},
   "source": [
    "## Random Scheduling"
   ]
  },
  {
   "cell_type": "code",
   "execution_count": 4,
   "metadata": {},
   "outputs": [],
   "source": [
    "sr_srmin_rand = []\n",
    "for Sum_Rmin in Sum_Rmin_list:\n",
    "    sr = []\n",
    "    for epi in range(0,episodes):\n",
    "        queue = help.generate_queue(Sum_Rmin,N)\n",
    "        queue = help.random_rate_scheduler(queue,N,B)\n",
    "        sr.append(sum(queue[:,3])/N)     \n",
    "    sr_random = sum(sr)/episodes\n",
    "    sr_srmin_rand.append(sr_random)"
   ]
  },
  {
   "cell_type": "markdown",
   "metadata": {},
   "source": [
    "## Earliest Deadline First"
   ]
  },
  {
   "cell_type": "code",
   "execution_count": 5,
   "metadata": {},
   "outputs": [],
   "source": [
    "sr_srmin_edf = []\n",
    "for Sum_Rmin in Sum_Rmin_list:\n",
    "    sr = []\n",
    "    for epi in range(0,episodes):\n",
    "        queue = help.generate_queue(Sum_Rmin,N)\n",
    "        queue = help.edf_rate_scheduler(queue,N,B)\n",
    "        sr.append(sum(queue[:,3])/N)\n",
    "    sr_edf = sum(sr)/episodes\n",
    "    sr_srmin_edf.append(sr_edf)"
   ]
  },
  {
   "cell_type": "markdown",
   "metadata": {},
   "source": [
    "## RL Method"
   ]
  },
  {
   "cell_type": "code",
   "execution_count": 6,
   "metadata": {},
   "outputs": [],
   "source": [
    "sr_rl_min = []\n",
    "\n",
    "for m in Sum_Rmin_list:\n",
    "\n",
    "    sr = []\n",
    "    p_exp = [0 for i in range(0,episodes)]\n",
    "    p_exp[0] = p_exp_zero\n",
    "    \n",
    "    allPossibleStates = helpRL.everyState(N,m)\n",
    "    allPossibleActions = helpRL.everyAction(B,N)\n",
    "    qTable = np.zeros([len(allPossibleStates),len(allPossibleActions)])\n",
    "\n",
    "\n",
    "    for i in range(0,episodes):\n",
    "        actions = list(helpRL.allStates(B,N))\n",
    "        queue = help.generate_queue(m,N)\n",
    "        currentState = queue[:,0]\n",
    "\n",
    "        allNegative = helpRL.checkIfAllNegative(currentState)\n",
    "        time = 0\n",
    "        p_exp[i] = max(p_exp[i-1]**i,0.01)\n",
    "        M = N\n",
    "\n",
    "        while allNegative:\n",
    "            #currentActionIndex = random.randint(0,len(actions)-1)\n",
    "            currentActionIndex = helpRL.actionByAgent(qTable,p_exp[i],currentState,allPossibleStates,allPossibleActions,actions)\n",
    "\n",
    "            rewardAction = np.array(actions[currentActionIndex])\n",
    "            nextState = np.array(currentState) - rewardAction\n",
    "            nextState = tuple([int(elem) for elem in nextState])\n",
    "\n",
    "            [oneNegative,negativeIndices] = helpRL.checkIfOneNegative(nextState)\n",
    "            if oneNegative:\n",
    "                [nextState,queue] = helpRL.deleteElement(queue,nextState,negativeIndices,time)\n",
    "                M = M-len(negativeIndices) \n",
    "                if M==0:\n",
    "                    break\n",
    "                actions = list(helpRL.allStates(B,M))\n",
    "            \n",
    "            allNegative = helpRL.checkIfAllNegative(nextState)\n",
    "            if allNegative:\n",
    "                update = helpRL.reward(currentState, rewardAction)\n",
    "                xCoord = allPossibleStates.index(tuple(nextState))\n",
    "                qTable[xCoord, currentActionIndex] +=  beta*update\n",
    "\n",
    "            currentState = nextState\n",
    "\n",
    "            time = time+1\n",
    "        \n",
    "        sr.append(sum(queue[:,3])/N)\n",
    "    sr_rl = sum(sr)/episodes\n",
    "    sr_rl_min.append(sr_rl)\n"
   ]
  },
  {
   "cell_type": "markdown",
   "metadata": {},
   "source": [
    "## Plot"
   ]
  },
  {
   "cell_type": "code",
   "execution_count": 7,
   "metadata": {},
   "outputs": [
    {
     "data": {
      "image/png": "[encoded data removed]",
      "text/plain": [
       "<Figure size 432x288 with 1 Axes>"
      ]
     },
     "metadata": {
      "needs_background": "light"
     },
     "output_type": "display_data"
    }
   ],
   "source": [
    "width=0.35\n",
    "\n",
    "fig = plt.figure()\n",
    "ax = fig.add_subplot(111)\n",
    "rects1 = ax.bar(np.array(Sum_Rmin_list), sr_srmin_ep,width)\n",
    "rects2 = ax.bar(np.array(Sum_Rmin_list)+width, sr_srmin_edf, width)\n",
    "rects3 = ax.bar(np.array(Sum_Rmin_list)+2*width, sr_srmin_rand, width)\n",
    "rects4 = ax.bar(np.array(Sum_Rmin_list)+3*width, sr_rl_min, width)\n",
    "\n",
    "ax.set_ylabel('Success Rate')\n",
    "ax.set_title('Success Rate for different heurstics')\n",
    "ax.set_xlabel('Sum_Rmin')\n",
    "ax.set_xticks(np.array(Sum_Rmin_list)+width)\n",
    "ax.set_xticklabels( ('4', '8', '12', '16', '20') )\n",
    "\n",
    "#ax.legend( (rects1[0], rects2[0],rects3[0]), ('Equal Partitioning', 'Earliest Deadline First','Random') )\n",
    "ax.legend( (rects1[0], rects2[0],rects3[0],rects4[0]), ('Equal Partitioning', 'Earliest Deadline First','Random','RL Agent') )\n",
    "\n",
    "plt.show()"
   ]
  },
  {
   "cell_type": "code",
   "execution_count": null,
   "metadata": {},
   "outputs": [],
   "source": []
  }
 ],
 "metadata": {
  "kernelspec": {
   "display_name": "Python 3.9.6 64-bit",
   "language": "python",
   "name": "python3"
  },
  "language_info": {
   "codemirror_mode": {
    "name": "ipython",
    "version": 3
   },
   "file_extension": ".py",
   "mimetype": "text/x-python",
   "name": "python",
   "nbconvert_exporter": "python",
   "pygments_lexer": "ipython3",
   "version": "3.9.6"
  },
  "orig_nbformat": 4,
  "vscode": {
   "interpreter": {
    "hash": "c646a9674814277039c39dcdb51e2bec8767efc7dff4a66721d49784526bb3e5"
   }
  }
 },
 "nbformat": 4,
 "nbformat_minor": 2
}
