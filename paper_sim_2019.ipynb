{
 "cells": [
  {
   "cell_type": "markdown",
   "metadata": {},
   "source": [
    "# A Reinforcement Learning Based Network Scheduler For Deadline-Driven Data Transfers"
   ]
  },
  {
   "cell_type": "markdown",
   "metadata": {},
   "source": [
    "### Importing Libraries"
   ]
  },
  {
   "cell_type": "code",
   "execution_count": 2,
   "metadata": {},
   "outputs": [],
   "source": [
    "import numpy as np\n",
    "import matplotlib.pyplot as plt\n",
    "import random as random\n",
    "import math\n",
    "import itertools\n",
    "import operator\n",
    "import helpFunctions as help\n",
    "import helpFunctionsRL as helpRL"
   ]
  },
  {
   "cell_type": "markdown",
   "metadata": {},
   "source": [
    "## Initializing Variables"
   ]
  },
  {
   "cell_type": "code",
   "execution_count": 3,
   "metadata": {},
   "outputs": [],
   "source": [
    "N = 3\n",
    "B = 10\n",
    "alpha = 0.85\n",
    "beta = 1\n",
    "p_exp_zero = 0.999\n",
    "episodes = 10**4\n",
    "Sum_Rmin_list = [4,8,12,16,20]"
   ]
  },
  {
   "cell_type": "markdown",
   "metadata": {},
   "source": [
    "## Equal Paritioning"
   ]
  },
  {
   "cell_type": "code",
   "execution_count": 8,
   "metadata": {},
   "outputs": [
    {
     "ename": "IndexError",
     "evalue": "list index out of range",
     "output_type": "error",
     "traceback": [
      "\u001b[1;31m---------------------------------------------------------------------------\u001b[0m",
      "\u001b[1;31mIndexError\u001b[0m                                Traceback (most recent call last)",
      "\u001b[1;32m~\\AppData\\Local\\Temp/ipykernel_17112/623906217.py\u001b[0m in \u001b[0;36m<module>\u001b[1;34m\u001b[0m\n\u001b[0;32m      3\u001b[0m     \u001b[0msr\u001b[0m \u001b[1;33m=\u001b[0m \u001b[1;33m[\u001b[0m\u001b[1;33m]\u001b[0m\u001b[1;33m\u001b[0m\u001b[1;33m\u001b[0m\u001b[0m\n\u001b[0;32m      4\u001b[0m     \u001b[1;32mfor\u001b[0m \u001b[0mepi\u001b[0m \u001b[1;32min\u001b[0m \u001b[0mrange\u001b[0m\u001b[1;33m(\u001b[0m\u001b[1;36m0\u001b[0m\u001b[1;33m,\u001b[0m\u001b[0mepisodes\u001b[0m\u001b[1;33m)\u001b[0m\u001b[1;33m:\u001b[0m\u001b[1;33m\u001b[0m\u001b[1;33m\u001b[0m\u001b[0m\n\u001b[1;32m----> 5\u001b[1;33m         \u001b[0mqueue\u001b[0m \u001b[1;33m=\u001b[0m \u001b[0mhelp\u001b[0m\u001b[1;33m.\u001b[0m\u001b[0mgenerate_queue\u001b[0m\u001b[1;33m(\u001b[0m\u001b[0mSum_Rmin\u001b[0m\u001b[1;33m,\u001b[0m\u001b[0mN\u001b[0m\u001b[1;33m)\u001b[0m\u001b[1;33m\u001b[0m\u001b[1;33m\u001b[0m\u001b[0m\n\u001b[0m\u001b[0;32m      6\u001b[0m         \u001b[0mqueue\u001b[0m \u001b[1;33m=\u001b[0m \u001b[0mhelp\u001b[0m\u001b[1;33m.\u001b[0m\u001b[0mequal_rate_scheduler\u001b[0m\u001b[1;33m(\u001b[0m\u001b[0mqueue\u001b[0m\u001b[1;33m,\u001b[0m\u001b[0mN\u001b[0m\u001b[1;33m,\u001b[0m\u001b[0mB\u001b[0m\u001b[1;33m)\u001b[0m\u001b[1;33m\u001b[0m\u001b[1;33m\u001b[0m\u001b[0m\n\u001b[0;32m      7\u001b[0m         \u001b[0msr\u001b[0m\u001b[1;33m.\u001b[0m\u001b[0mappend\u001b[0m\u001b[1;33m(\u001b[0m\u001b[0msum\u001b[0m\u001b[1;33m(\u001b[0m\u001b[0mqueue\u001b[0m\u001b[1;33m[\u001b[0m\u001b[1;33m:\u001b[0m\u001b[1;33m,\u001b[0m\u001b[1;36m3\u001b[0m\u001b[1;33m]\u001b[0m\u001b[1;33m)\u001b[0m\u001b[1;33m/\u001b[0m\u001b[0mN\u001b[0m\u001b[1;33m)\u001b[0m\u001b[1;33m\u001b[0m\u001b[1;33m\u001b[0m\u001b[0m\n",
      "\u001b[1;32md:\\Final year Project\\RL\\code\\helpFunctions.py\u001b[0m in \u001b[0;36mgenerate_queue\u001b[1;34m(Sum_Rmin, N)\u001b[0m\n\u001b[0;32m     79\u001b[0m     \u001b[1;32mwhile\u001b[0m \u001b[0many\u001b[0m\u001b[1;33m(\u001b[0m\u001b[0melem\u001b[0m\u001b[1;33m==\u001b[0m\u001b[1;36m0\u001b[0m \u001b[1;32mfor\u001b[0m \u001b[0melem\u001b[0m \u001b[1;32min\u001b[0m \u001b[0mRmin\u001b[0m\u001b[1;33m)\u001b[0m\u001b[1;33m:\u001b[0m\u001b[1;33m\u001b[0m\u001b[1;33m\u001b[0m\u001b[0m\n\u001b[0;32m     80\u001b[0m         \u001b[0mRmin\u001b[0m \u001b[1;33m=\u001b[0m \u001b[0mrandom_number_partition\u001b[0m\u001b[1;33m(\u001b[0m\u001b[0mSum_Rmin\u001b[0m\u001b[1;33m,\u001b[0m\u001b[0mN\u001b[0m\u001b[1;33m)\u001b[0m\u001b[1;33m\u001b[0m\u001b[1;33m\u001b[0m\u001b[0m\n\u001b[1;32m---> 81\u001b[1;33m \u001b[1;33m\u001b[0m\u001b[0m\n\u001b[0m\u001b[0;32m     82\u001b[0m \u001b[1;33m\u001b[0m\u001b[0m\n\u001b[0;32m     83\u001b[0m     \u001b[0mprint\u001b[0m\u001b[1;33m(\u001b[0m\u001b[0mlen\u001b[0m\u001b[1;33m(\u001b[0m\u001b[0mRmin\u001b[0m\u001b[1;33m)\u001b[0m\u001b[1;33m,\u001b[0m\u001b[0mlen\u001b[0m\u001b[1;33m(\u001b[0m\u001b[0mF\u001b[0m\u001b[1;33m)\u001b[0m\u001b[1;33m,\u001b[0m\u001b[0mN\u001b[0m\u001b[1;33m)\u001b[0m\u001b[1;33m\u001b[0m\u001b[1;33m\u001b[0m\u001b[0m\n",
      "\u001b[1;32md:\\Final year Project\\RL\\code\\helpFunctions.py\u001b[0m in \u001b[0;36m<listcomp>\u001b[1;34m(.0)\u001b[0m\n\u001b[0;32m     79\u001b[0m     \u001b[1;32mwhile\u001b[0m \u001b[0many\u001b[0m\u001b[1;33m(\u001b[0m\u001b[0melem\u001b[0m\u001b[1;33m==\u001b[0m\u001b[1;36m0\u001b[0m \u001b[1;32mfor\u001b[0m \u001b[0melem\u001b[0m \u001b[1;32min\u001b[0m \u001b[0mRmin\u001b[0m\u001b[1;33m)\u001b[0m\u001b[1;33m:\u001b[0m\u001b[1;33m\u001b[0m\u001b[1;33m\u001b[0m\u001b[0m\n\u001b[0;32m     80\u001b[0m         \u001b[0mRmin\u001b[0m \u001b[1;33m=\u001b[0m \u001b[0mrandom_number_partition\u001b[0m\u001b[1;33m(\u001b[0m\u001b[0mSum_Rmin\u001b[0m\u001b[1;33m,\u001b[0m\u001b[0mN\u001b[0m\u001b[1;33m)\u001b[0m\u001b[1;33m\u001b[0m\u001b[1;33m\u001b[0m\u001b[0m\n\u001b[1;32m---> 81\u001b[1;33m \u001b[1;33m\u001b[0m\u001b[0m\n\u001b[0m\u001b[0;32m     82\u001b[0m \u001b[1;33m\u001b[0m\u001b[0m\n\u001b[0;32m     83\u001b[0m     \u001b[0mprint\u001b[0m\u001b[1;33m(\u001b[0m\u001b[0mlen\u001b[0m\u001b[1;33m(\u001b[0m\u001b[0mRmin\u001b[0m\u001b[1;33m)\u001b[0m\u001b[1;33m,\u001b[0m\u001b[0mlen\u001b[0m\u001b[1;33m(\u001b[0m\u001b[0mF\u001b[0m\u001b[1;33m)\u001b[0m\u001b[1;33m,\u001b[0m\u001b[0mN\u001b[0m\u001b[1;33m)\u001b[0m\u001b[1;33m\u001b[0m\u001b[1;33m\u001b[0m\u001b[0m\n",
      "\u001b[1;31mIndexError\u001b[0m: list index out of range"
     ]
    }
   ],
   "source": [
    "sr_srmin_ep = []\n",
    "for Sum_Rmin in Sum_Rmin_list:\n",
    "    sr = []\n",
    "    for epi in range(0,episodes):\n",
    "        queue = help.generate_queue(Sum_Rmin,N)\n",
    "        queue = help.equal_rate_scheduler(queue,N,B)\n",
    "        sr.append(sum(queue[:,3])/N)\n",
    "    sr_ep = sum(sr)/episodes\n",
    "    sr_srmin_ep.append(sr_ep)"
   ]
  },
  {
   "cell_type": "markdown",
   "metadata": {},
   "source": [
    "## Random Scheduling"
   ]
  },
  {
   "cell_type": "code",
   "execution_count": null,
   "metadata": {},
   "outputs": [],
   "source": [
    "sr_srmin_rand = []\n",
    "for Sum_Rmin in Sum_Rmin_list:\n",
    "    sr = []\n",
    "    for epi in range(0,episodes):\n",
    "        queue = help.generate_queue(Sum_Rmin,N)\n",
    "        queue = help.random_rate_scheduler(queue,N,B)\n",
    "        sr.append(sum(queue[:,3])/N)     \n",
    "    sr_random = sum(sr)/episodes\n",
    "    sr_srmin_rand.append(sr_random)"
   ]
  },
  {
   "cell_type": "markdown",
   "metadata": {},
   "source": [
    "## Earliest Deadline First"
   ]
  },
  {
   "cell_type": "code",
   "execution_count": null,
   "metadata": {},
   "outputs": [],
   "source": [
    "sr_srmin_edf = []\n",
    "for Sum_Rmin in Sum_Rmin_list:\n",
    "    sr = []\n",
    "    for epi in range(0,episodes):\n",
    "        queue = help.generate_queue(Sum_Rmin,N)\n",
    "        queue = help.edf_rate_scheduler(queue,N,B)\n",
    "        sr.append(sum(queue[:,3])/N)\n",
    "    sr_edf = sum(sr)/episodes\n",
    "    sr_srmin_edf.append(sr_edf)"
   ]
  },
  {
   "cell_type": "markdown",
   "metadata": {},
   "source": [
    "## RL Method"
   ]
  },
  {
   "cell_type": "code",
   "execution_count": null,
   "metadata": {},
   "outputs": [],
   "source": [
    "def allStates(r,n):\n",
    "   size = n + r - 1\n",
    "   for indices in itertools.combinations(range(size), n-1):\n",
    "       starts = [0] + [index+1 for index in indices]\n",
    "       stops = indices + (size,)\n",
    "       yield tuple(map(operator.sub, stops, starts))\n",
    "\n",
    "def everyState(N,r):\n",
    "    everyStateList = []\n",
    "    for i in range(0,r+1):\n",
    "        for j in range(1,N+1):\n",
    "            stateForOne  = list(allStates(i,j))\n",
    "            everyStateList = everyStateList + stateForOne\n",
    "    return everyStateList\n",
    "\n",
    "def everyAction(N,r):\n",
    "    everyActionList = []\n",
    "    for i in range(1,r+1):\n",
    "        stateForOne  = list(allStates(N,i))\n",
    "        everyActionList = everyActionList + stateForOne\n",
    "    return everyActionList"
   ]
  },
  {
   "cell_type": "code",
   "execution_count": null,
   "metadata": {},
   "outputs": [],
   "source": [
    "def reward(state,action):\n",
    "    N = len(state)\n",
    "    drem = []\n",
    "    for i in range(0,N):\n",
    "        drem.append((state[i]-action[i]))\n",
    "    drem_max = max(drem)\n",
    "    SIR = []\n",
    "    for i in range(0,N):\n",
    "        SIR.append((drem_max-drem[i])*action[i])\n",
    "    rewardValue = sum(SIR)\n",
    "    return rewardValue"
   ]
  },
  {
   "cell_type": "code",
   "execution_count": null,
   "metadata": {},
   "outputs": [],
   "source": [
    "def checkIfOneNegative(someList):\n",
    "    L = len(someList)\n",
    "    indices = []\n",
    "    for i in range(0,L):\n",
    "        if someList[i]<=0:\n",
    "            indices.append(i)\n",
    "    if len(indices)>0:\n",
    "        binary = True\n",
    "    else:\n",
    "        binary = False\n",
    "    return [binary, indices]"
   ]
  },
  {
   "cell_type": "code",
   "execution_count": null,
   "metadata": {},
   "outputs": [],
   "source": [
    "def checkIfAllNegative(someList):\n",
    "    L = len(someList)\n",
    "    count = 0\n",
    "    for i in range(0,L):\n",
    "        if someList[i]<=0:\n",
    "            count = count+1\n",
    "    if count==L:\n",
    "        binary = False\n",
    "    else:\n",
    "        binary = True\n",
    "    return binary"
   ]
  },
  {
   "cell_type": "code",
   "execution_count": null,
   "metadata": {},
   "outputs": [],
   "source": [
    "from operator import index\n",
    "\n",
    "\n",
    "sr_rl_min = []\n",
    "\n",
    "for m in Sum_Rmin_list:\n",
    "\n",
    "    sr = []\n",
    "\n",
    "    flow = [i for i in range(0,episodes)]\n",
    "    p_exp = [0 for i in range(0,episodes)]\n",
    "    p_exp[0] = p_exp_zero\n",
    "\n",
    "    #firstSetStates = list(allStates(m,N))\n",
    "    \n",
    "    allPossibleStates = helpRL.everyState(N,m)\n",
    "    allPossibleActions = helpRL.everyAction(B,N)\n",
    "    qTable = np.zeros([len(allPossibleStates),len(allPossibleActions)])\n",
    "\n",
    "\n",
    "    for i in range(0,episodes):\n",
    "        \n",
    "        #print(\"Sum Rmin Value: \",m,\" Episode Number: \",i)\n",
    "        actions = list(allStates(B,N))\n",
    "\n",
    "        queue = help.basics(m,N)\n",
    "\n",
    "        \n",
    "        currentState = queue[:,0]\n",
    "        check = checkIfAllNegative(currentState)\n",
    "        time = 0\n",
    "        p_exp[i] = max(p_exp[i-1]**i,0.01)\n",
    "\n",
    "\n",
    "        while check:\n",
    "\n",
    "            check3 = np.count_nonzero(qTable)/(np.shape(qTable)[0]*np.shape(qTable)[1])\n",
    "            \n",
    "            if check3<=1-p_exp[i]:\n",
    "                currentActionIndex = random.randint(0,len(actions)-1)\n",
    "            else:\n",
    "                print(p_exp[i])\n",
    "                indexCurrentState = allPossibleStates.index(tuple(currentState))\n",
    "                maxValue = max(qTable[indexCurrentState][:])\n",
    "                currentACtionIndex = np.where(qTable==maxValue)[1][0]\n",
    "                print(currentACtionIndex)\n",
    "\n",
    "            rewardAction = np.array(actions[currentActionIndex])\n",
    "            nextState = np.array(currentState) - rewardAction\n",
    "\n",
    "\n",
    "            check2 = checkIfOneNegative(nextState)\n",
    "            if check2[0]:\n",
    "                    \n",
    "                listCurrentState = list(nextState)\n",
    "                enum = enumerate(listCurrentState)\n",
    "                for j in list(reversed(check2[1])):\n",
    "                    del listCurrentState[j]\n",
    "                    if queue[j,1]<time:\n",
    "                        queue[j,3]=1\n",
    "\n",
    "                nextState = tuple(listCurrentState)\n",
    "\n",
    "                currentState = nextState\n",
    "\n",
    "                check = checkIfAllNegative(nextState)\n",
    "                if check:\n",
    "                    update = reward(nextState, rewardAction)\n",
    "                    xCoord = allPossibleStates.index(tuple(nextState))\n",
    "                    qTable[xCoord, currentActionIndex] = qTable[xCoord, currentActionIndex]+ beta*update\n",
    "                \n",
    "                M = N - len(check2[1])\n",
    "                if M==0:\n",
    "                    break\n",
    "                actions = list(allStates(B,M))\n",
    "\n",
    "            currentState = nextState\n",
    "            \n",
    "            \n",
    "            check = checkIfAllNegative(currentState)\n",
    "\n",
    "            time = time+1\n",
    "        \n",
    "        sr.append(sum(queue[:,3])/N)\n",
    "    sr_rl = sum(sr)/episodes\n",
    "    sr_rl_min.append(sr_rl)\n"
   ]
  },
  {
   "cell_type": "markdown",
   "metadata": {},
   "source": [
    "## Plot"
   ]
  },
  {
   "cell_type": "code",
   "execution_count": null,
   "metadata": {},
   "outputs": [],
   "source": [
    "width=0.35\n",
    "\n",
    "fig = plt.figure()\n",
    "ax = fig.add_subplot(111)\n",
    "rects1 = ax.bar(np.array(Sum_Rmin_list), sr_srmin_ep,width)\n",
    "rects2 = ax.bar(np.array(Sum_Rmin_list)+width, sr_srmin_edf, width)\n",
    "rects3 = ax.bar(np.array(Sum_Rmin_list)+2*width, sr_srmin_rand, width)\n",
    "#rects4 = ax.bar(np.array(Sum_Rmin_list)+3*width, sr_rl_min, width)\n",
    "\n",
    "# add some\n",
    "ax.set_ylabel('Success Rate')\n",
    "ax.set_title('Success Rate for different heurstics')\n",
    "ax.set_xlabel('Sum_Rmin')\n",
    "ax.set_xticks(np.array(Sum_Rmin_list)+width)\n",
    "ax.set_xticklabels( ('4', '8', '12', '16', '20') )\n",
    "\n",
    "ax.legend( (rects1[0], rects2[0],rects3[0]), ('Equal Partitioning', 'Earliest Deadline First','Random') )\n",
    "#ax.legend( (rects1[0], rects2[0],rects3[0],rects4[0]), ('Equal Partitioning', 'Earliest Deadline First','Random','RL Agent') )\n",
    "\n",
    "plt.show()"
   ]
  },
  {
   "cell_type": "code",
   "execution_count": null,
   "metadata": {},
   "outputs": [],
   "source": []
  }
 ],
 "metadata": {
  "kernelspec": {
   "display_name": "Python 3.9.6 64-bit",
   "language": "python",
   "name": "python3"
  },
  "language_info": {
   "codemirror_mode": {
    "name": "ipython",
    "version": 3
   },
   "file_extension": ".py",
   "mimetype": "text/x-python",
   "name": "python",
   "nbconvert_exporter": "python",
   "pygments_lexer": "ipython3",
   "version": "3.9.6"
  },
  "orig_nbformat": 4,
  "vscode": {
   "interpreter": {
    "hash": "c646a9674814277039c39dcdb51e2bec8767efc7dff4a66721d49784526bb3e5"
   }
  }
 },
 "nbformat": 4,
 "nbformat_minor": 2
}
